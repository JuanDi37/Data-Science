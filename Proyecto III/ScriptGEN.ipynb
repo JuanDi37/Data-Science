{
 "cells": [
  {
   "cell_type": "code",
   "execution_count": null,
   "metadata": {},
   "outputs": [],
   "source": [
    "#importamos numpy para operaciones numericas\n",
    "import numpy as np  #importamos numpy para operaciones numericas\n",
    "#importamos pandas para manejo de dataframes\n",
    "import pandas as pd  #importamos pandas para manejo de dataframes\n",
    "#fijamos semilla a 2004 para reproducibilidad\n",
    "np.random.seed(2004)\n",
    "#definimos cantidad de clientes\n",
    "n_clients = 100000  #asignamos 100,000 clientes\n",
    "#definimos cantidad de meses\n",
    "n_months = 12  #asignamos 12 meses"
   ]
  },
  {
   "cell_type": "code",
   "execution_count": 2,
   "metadata": {},
   "outputs": [],
   "source": [
    "#generamos ids de clientes repetidos por cada mes\n",
    "client_ids = np.repeat(np.arange(1, n_clients + 1), n_months)  #generamos vector de ids de clientes\n",
    "#generamos fechas mensuales para cada cliente\n",
    "dates = np.tile(pd.date_range(start='2022-01-01', periods=n_months, freq='MS'), n_clients)  #generamos fechas usando rango de fechas y repetimos para cada cliente\n",
    "#generamos 4 features con nombres bancarios\n",
    "total_rows = n_clients * n_months  #calculamos total de filas"
   ]
  },
  {
   "cell_type": "code",
   "execution_count": 3,
   "metadata": {},
   "outputs": [],
   "source": [
    "#generamos transacciones_realizadas entre 0 y 100\n",
    "transacciones_realizadas = np.random.randint(0, 101, size=total_rows)  #asignamos valores enteros para transacciones_realizadas\n",
    "#generamos tasa_utilizacion_credito entre 0 y 1\n",
    "tasa_utilizacion_credito = np.random.uniform(0, 1, size=total_rows)  #asignamos valores reales para tasa_utilizacion_credito\n",
    "#generamos monto_deuda entre 0 y 10000\n",
    "monto_deuda = np.random.uniform(0, 10000, size=total_rows)  #asignamos valores reales para monto_deuda"
   ]
  },
  {
   "cell_type": "code",
   "execution_count": 4,
   "metadata": {},
   "outputs": [],
   "source": [
    "#generamos num_creditos_activos entre 0 y 10\n",
    "num_creditos_activos = np.random.randint(0, 11, size=total_rows)  #asignamos valores enteros para num_creditos_activos\n",
    "#generamos ingreso_mensual entre 1000 y 10000\n",
    "ingreso_mensual = np.random.uniform(1000, 10000, size=total_rows)  #asignamos valores reales para ingreso_mensual"
   ]
  },
  {
   "cell_type": "code",
   "execution_count": 5,
   "metadata": {},
   "outputs": [
    {
     "name": "stdout",
     "output_type": "stream",
     "text": [
      "data exportada a csv: clientes_data.csv\n"
     ]
    }
   ],
   "source": [
    "#creamos dataframe con pandas\n",
    "df = pd.DataFrame({  #iniciamos creacion de dataframe\n",
    "    'client_id': client_ids,  #agregamos columna de client_id\n",
    "    'observation_date': dates,  #agregamos columna de fechas de observacion\n",
    "    'transacciones_realizadas': transacciones_realizadas,  #agregamos columna transacciones_realizadas\n",
    "    'tasa_utilizacion_credito': tasa_utilizacion_credito,  #agregamos columna tasa_utilizacion_credito\n",
    "    'monto_deuda': monto_deuda,  #agregamos columna monto_deuda\n",
    "    'num_creditos_activos': num_creditos_activos,  #agregamos columna num_creditos_activos\n",
    "    'ingreso_mensual': ingreso_mensual  #agregamos columna ingreso_mensual\n",
    "})  #finalizamos creacion del dataframe\n",
    "#exportamos dataframe a csv\n",
    "csv_filename = 'clientes_data.csv'  #definimos nombre de archivo csv\n",
    "df.to_csv(csv_filename, index=False)  #guardamos dataframe en csv sin indice\n",
    "print(f'data exportada a csv: {csv_filename}')  #imprimimos mensaje de exito para csv"
   ]
  }
 ],
 "metadata": {
  "kernelspec": {
   "display_name": "Python 3",
   "language": "python",
   "name": "python3"
  },
  "language_info": {
   "codemirror_mode": {
    "name": "ipython",
    "version": 3
   },
   "file_extension": ".py",
   "mimetype": "text/x-python",
   "name": "python",
   "nbconvert_exporter": "python",
   "pygments_lexer": "ipython3",
   "version": "3.13.2"
  }
 },
 "nbformat": 4,
 "nbformat_minor": 2
}
